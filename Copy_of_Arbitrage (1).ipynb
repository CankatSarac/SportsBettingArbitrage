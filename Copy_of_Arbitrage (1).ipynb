{
  "cells": [
    {
      "cell_type": "markdown",
      "metadata": {
        "id": "30146ed7"
      },
      "source": [
        "# Statistical Arbitrage for Sports Betting"
      ],
      "id": "30146ed7"
    },
    {
      "cell_type": "markdown",
      "metadata": {
        "id": "fa0524d5"
      },
      "source": [
        "Using: Live Sports Odds API\n",
        "Documentation Link: https://the-odds-api.com/ "
      ],
      "id": "fa0524d5"
    },
    {
      "cell_type": "markdown",
      "metadata": {
        "id": "NPed1IfXdEnY"
      },
      "source": [],
      "id": "NPed1IfXdEnY"
    },
    {
      "cell_type": "code",
      "execution_count": 39,
      "metadata": {
        "id": "ToUqYzwXdE04"
      },
      "outputs": [],
      "source": [],
      "id": "ToUqYzwXdE04"
    },
    {
      "cell_type": "markdown",
      "metadata": {
        "id": "40bd8cd9"
      },
      "source": [
        "This program will look for statistical arbitrage opportunities in the upcoming eight games across all sports."
      ],
      "id": "40bd8cd9"
    },
    {
      "cell_type": "markdown",
      "metadata": {
        "id": "88d7d4e1"
      },
      "source": [
        "### Importing Dependencies and Acquiring API Key"
      ],
      "id": "88d7d4e1"
    },
    {
      "cell_type": "code",
      "execution_count": 40,
      "metadata": {
        "id": "eJSxv9OndOcl",
        "outputId": "77c86fef-89f2-4e2d-d92f-cb5db9688ab0",
        "colab": {
          "base_uri": "https://localhost:8080/"
        }
      },
      "outputs": [
        {
          "output_type": "stream",
          "name": "stdout",
          "text": [
            "Looking in indexes: https://pypi.org/simple, https://us-python.pkg.dev/colab-wheels/public/simple/\n",
            "Requirement already satisfied: XlsxWriter in /usr/local/lib/python3.9/dist-packages (3.0.9)\n"
          ]
        }
      ],
      "source": [
        "!pip install XlsxWriter"
      ],
      "id": "eJSxv9OndOcl"
    },
    {
      "cell_type": "code",
      "execution_count": 41,
      "metadata": {
        "id": "31fa11dc"
      },
      "outputs": [],
      "source": [
        "import requests\n",
        "import xlsxwriter\n",
        "import pandas as pd\n",
        "import numpy as np\n",
        "import openpyxl\n",
        "from openpyxl import Workbook, load_workbook\n",
        "from openpyxl.styles import Border, Side, Font, Alignment, PatternFill, numbers\n",
        "\n",
        "API_KEY = '615f73a95b7d0c92e9cada09f02d5a24'"
      ],
      "id": "31fa11dc"
    },
    {
      "cell_type": "markdown",
      "metadata": {
        "id": "2728ca07"
      },
      "source": [
        "### Defining Constants and Making API Call\n",
        "- ``BET_SIZE`` is the monetary amount in USD that you are willing to make for each bet. For example, if you define ``BET_SIZE`` as 100, you are telling the program that you want to bet a total of 100 dollars USD for each arbitrage opportunity that the program finds"
      ],
      "id": "2728ca07"
    },
    {
      "cell_type": "code",
      "execution_count": 50,
      "metadata": {
        "id": "b07f9912",
        "scrolled": false
      },
      "outputs": [],
      "source": [
        "SPORT = 'upcoming' # use the sport_key from the /sports endpoint below, or use 'upcoming' to see the next 8 games across all sports\n",
        "\n",
        "REGIONS = 'uk' # uk | us | eu | au. Multiple can be specified if comma delimited\n",
        "\n",
        "MARKETS = 'h2h' # h2h | spreads | totals. Multiple can be specified if comma delimited\n",
        "\n",
        "ODDS_FORMAT = 'decimal' # decimal | american\n",
        "\n",
        "DATE_FORMAT = 'iso' # iso | unix\n",
        "\n",
        "BET_SIZE = 10\n",
        "\n",
        "odds_response = requests.get(\n",
        "    f'https://api.the-odds-api.com/v4/sports/{SPORT}/odds',\n",
        "    params={\n",
        "        'api_key': '615f73a95b7d0c92e9cada09f02d5a24',\n",
        "        'regions': REGIONS,\n",
        "        'markets': MARKETS,\n",
        "        'oddsFormat': ODDS_FORMAT,\n",
        "        'dateFormat': DATE_FORMAT,\n",
        "    }\n",
        ").json()"
      ],
      "id": "b07f9912"
    },
    {
      "cell_type": "code",
      "execution_count": 51,
      "metadata": {
        "id": "a406cfc7",
        "outputId": "a7244c6e-a97f-4018-d97f-020568c8b52a",
        "colab": {
          "base_uri": "https://localhost:8080/"
        }
      },
      "outputs": [
        {
          "output_type": "stream",
          "name": "stdout",
          "text": [
            "[{'id': 'b8cdf0376b7b8da54ddc35adfd9be3da', 'sport_key': 'soccer_portugal_primeira_liga', 'sport_title': 'Primeira Liga - Portugal', 'commence_time': '2023-04-10T19:16:39Z', 'home_team': 'Gil Vicente', 'away_team': 'Chaves', 'bookmakers': [{'key': 'coral', 'title': 'Coral', 'last_update': '2023-04-10T21:06:16Z', 'markets': [{'key': 'h2h', 'last_update': '2023-04-10T21:06:16Z', 'outcomes': [{'name': 'Chaves', 'price': 10.0}, {'name': 'Gil Vicente', 'price': 7.0}, {'name': 'Draw', 'price': 1.22}]}]}, {'key': 'sport888', 'title': '888sport', 'last_update': '2023-04-10T21:07:56Z', 'markets': [{'key': 'h2h', 'last_update': '2023-04-10T21:07:56Z', 'outcomes': [{'name': 'Chaves', 'price': 12.0}, {'name': 'Gil Vicente', 'price': 10.0}, {'name': 'Draw', 'price': 1.12}]}]}, {'key': 'paddypower', 'title': 'Paddy Power', 'last_update': '2023-04-10T21:07:55Z', 'markets': [{'key': 'h2h', 'last_update': '2023-04-10T21:07:55Z', 'outcomes': [{'name': 'Chaves', 'price': 10.0}, {'name': 'Gil Vicente', 'price': 9.0}, {'name': 'Draw', 'price': 1.12}]}]}, {'key': 'betway', 'title': 'Betway', 'last_update': '2023-04-10T21:07:57Z', 'markets': [{'key': 'h2h', 'last_update': '2023-04-10T21:07:57Z', 'outcomes': [{'name': 'Chaves', 'price': 12.0}, {'name': 'Gil Vicente', 'price': 7.5}, {'name': 'Draw', 'price': 1.14}]}]}, {'key': 'betfair', 'title': 'Betfair', 'last_update': '2023-04-10T21:07:57Z', 'markets': [{'key': 'h2h', 'last_update': '2023-04-10T21:07:57Z', 'outcomes': [{'name': 'Chaves', 'price': 11.0}, {'name': 'Gil Vicente', 'price': 9.0}, {'name': 'Draw', 'price': 1.22}]}, {'key': 'h2h_lay', 'last_update': '2023-04-10T21:07:57Z', 'outcomes': [{'name': 'Chaves', 'price': 16.5}, {'name': 'Gil Vicente', 'price': 9.6}, {'name': 'Draw', 'price': 1.25}]}]}, {'key': 'virginbet', 'title': 'Virgin Bet', 'last_update': '2023-04-10T21:07:57Z', 'markets': [{'key': 'h2h', 'last_update': '2023-04-10T21:07:57Z', 'outcomes': [{'name': 'Chaves', 'price': 11.0}, {'name': 'Gil Vicente', 'price': 9.5}, {'name': 'Draw', 'price': 1.09}]}]}, {'key': 'livescorebet', 'title': 'LiveScore Bet', 'last_update': '2023-04-10T21:07:57Z', 'markets': [{'key': 'h2h', 'last_update': '2023-04-10T21:07:57Z', 'outcomes': [{'name': 'Chaves', 'price': 11.0}, {'name': 'Gil Vicente', 'price': 9.5}, {'name': 'Draw', 'price': 1.09}]}]}, {'key': 'betfair_sb_uk', 'title': 'Betfair Sportsbook', 'last_update': '2023-04-10T21:07:59Z', 'markets': [{'key': 'h2h', 'last_update': '2023-04-10T21:07:59Z', 'outcomes': [{'name': 'Chaves', 'price': 11.0}, {'name': 'Gil Vicente', 'price': 9.0}, {'name': 'Draw', 'price': 1.14}]}]}, {'key': 'matchbook', 'title': 'Matchbook', 'last_update': '2023-04-10T21:06:14Z', 'markets': [{'key': 'h2h', 'last_update': '2023-04-10T21:06:14Z', 'outcomes': [{'name': 'Chaves', 'price': 10.5}, {'name': 'Gil Vicente', 'price': 7.4}, {'name': 'Draw', 'price': 1.19}]}, {'key': 'h2h_lay', 'last_update': '2023-04-10T21:06:14Z', 'outcomes': [{'name': 'Chaves', 'price': 19.0}, {'name': 'Gil Vicente', 'price': 15.5}, {'name': 'Draw', 'price': 1.63}]}]}, {'key': 'mrgreen', 'title': 'Mr Green', 'last_update': '2023-04-10T21:07:58Z', 'markets': [{'key': 'h2h', 'last_update': '2023-04-10T21:07:58Z', 'outcomes': [{'name': 'Chaves', 'price': 12.5}, {'name': 'Gil Vicente', 'price': 8.5}, {'name': 'Draw', 'price': 1.14}]}]}, {'key': 'leovegas', 'title': 'LeoVegas', 'last_update': '2023-04-10T21:07:58Z', 'markets': [{'key': 'h2h', 'last_update': '2023-04-10T21:07:58Z', 'outcomes': [{'name': 'Chaves', 'price': 12.0}, {'name': 'Gil Vicente', 'price': 8.0}, {'name': 'Draw', 'price': 1.11}]}]}, {'key': 'unibet_uk', 'title': 'Unibet', 'last_update': '2023-04-10T21:07:58Z', 'markets': [{'key': 'h2h', 'last_update': '2023-04-10T21:07:58Z', 'outcomes': [{'name': 'Chaves', 'price': 13.0}, {'name': 'Gil Vicente', 'price': 8.5}, {'name': 'Draw', 'price': 1.15}]}]}, {'key': 'casumo', 'title': 'Casumo', 'last_update': '2023-04-10T21:07:58Z', 'markets': [{'key': 'h2h', 'last_update': '2023-04-10T21:07:58Z', 'outcomes': [{'name': 'Chaves', 'price': 14.0}, {'name': 'Gil Vicente', 'price': 9.0}, {'name': 'Draw', 'price': 1.15}]}]}]}, {'id': '282119b05ce8a1a4dc3e5d6c9f63f8f5', 'sport_key': 'baseball_mlb', 'sport_title': 'MLB', 'commence_time': '2023-04-10T22:10:00Z', 'home_team': 'Cleveland Guardians', 'away_team': 'New York Yankees', 'bookmakers': [{'key': 'ladbrokes', 'title': 'Ladbrokes', 'last_update': '2023-04-10T21:08:19Z', 'markets': [{'key': 'h2h', 'last_update': '2023-04-10T21:08:19Z', 'outcomes': [{'name': 'Cleveland Guardians', 'price': 1.62}, {'name': 'New York Yankees', 'price': 2.35}]}]}, {'key': 'williamhill', 'title': 'William Hill', 'last_update': '2023-04-10T21:08:19Z', 'markets': [{'key': 'h2h', 'last_update': '2023-04-10T21:08:19Z', 'outcomes': [{'name': 'Cleveland Guardians', 'price': 1.67}, {'name': 'New York Yankees', 'price': 2.3}]}]}, {'key': 'betfair_sb_uk', 'title': 'Betfair Sportsbook', 'last_update': '2023-04-10T21:08:22Z', 'markets': [{'key': 'h2h', 'last_update': '2023-04-10T21:08:22Z', 'outcomes': [{'name': 'Cleveland Guardians', 'price': 1.67}, {'name': 'New York Yankees', 'price': 2.25}]}]}, {'key': 'paddypower', 'title': 'Paddy Power', 'last_update': '2023-04-10T21:08:19Z', 'markets': [{'key': 'h2h', 'last_update': '2023-04-10T21:08:19Z', 'outcomes': [{'name': 'Cleveland Guardians', 'price': 1.6}, {'name': 'New York Yankees', 'price': 2.25}]}]}, {'key': 'coral', 'title': 'Coral', 'last_update': '2023-04-10T21:08:21Z', 'markets': [{'key': 'h2h', 'last_update': '2023-04-10T21:08:21Z', 'outcomes': [{'name': 'Cleveland Guardians', 'price': 1.67}, {'name': 'New York Yankees', 'price': 2.25}]}]}, {'key': 'mrgreen', 'title': 'Mr Green', 'last_update': '2023-04-10T21:08:21Z', 'markets': [{'key': 'h2h', 'last_update': '2023-04-10T21:08:21Z', 'outcomes': [{'name': 'Cleveland Guardians', 'price': 1.63}, {'name': 'New York Yankees', 'price': 2.28}]}]}, {'key': 'unibet_uk', 'title': 'Unibet', 'last_update': '2023-04-10T21:08:21Z', 'markets': [{'key': 'h2h', 'last_update': '2023-04-10T21:08:21Z', 'outcomes': [{'name': 'Cleveland Guardians', 'price': 1.64}, {'name': 'New York Yankees', 'price': 2.3}]}]}, {'key': 'casumo', 'title': 'Casumo', 'last_update': '2023-04-10T21:08:21Z', 'markets': [{'key': 'h2h', 'last_update': '2023-04-10T21:08:21Z', 'outcomes': [{'name': 'Cleveland Guardians', 'price': 1.65}, {'name': 'New York Yankees', 'price': 2.32}]}]}, {'key': 'betfair', 'title': 'Betfair', 'last_update': '2023-04-10T21:08:21Z', 'markets': [{'key': 'h2h', 'last_update': '2023-04-10T21:08:21Z', 'outcomes': [{'name': 'Cleveland Guardians', 'price': 1.68}, {'name': 'New York Yankees', 'price': 2.44}]}, {'key': 'h2h_lay', 'last_update': '2023-04-10T21:08:21Z', 'outcomes': [{'name': 'Cleveland Guardians', 'price': 1.7}, {'name': 'New York Yankees', 'price': 2.46}]}]}]}, {'id': '1aec069c63e0e96b762699a58044c4c2', 'sport_key': 'baseball_mlb', 'sport_title': 'MLB', 'commence_time': '2023-04-10T22:35:00Z', 'home_team': 'Baltimore Orioles', 'away_team': 'Oakland Athletics', 'bookmakers': [{'key': 'ladbrokes', 'title': 'Ladbrokes', 'last_update': '2023-04-10T21:08:19Z', 'markets': [{'key': 'h2h', 'last_update': '2023-04-10T21:08:19Z', 'outcomes': [{'name': 'Baltimore Orioles', 'price': 1.53}, {'name': 'Oakland Athletics', 'price': 2.55}]}]}, {'key': 'williamhill', 'title': 'William Hill', 'last_update': '2023-04-10T21:08:19Z', 'markets': [{'key': 'h2h', 'last_update': '2023-04-10T21:08:19Z', 'outcomes': [{'name': 'Baltimore Orioles', 'price': 1.56}, {'name': 'Oakland Athletics', 'price': 2.6}]}]}, {'key': 'betfair_sb_uk', 'title': 'Betfair Sportsbook', 'last_update': '2023-04-10T21:08:22Z', 'markets': [{'key': 'h2h', 'last_update': '2023-04-10T21:08:22Z', 'outcomes': [{'name': 'Baltimore Orioles', 'price': 1.53}, {'name': 'Oakland Athletics', 'price': 2.6}]}]}, {'key': 'paddypower', 'title': 'Paddy Power', 'last_update': '2023-04-10T21:08:19Z', 'markets': [{'key': 'h2h', 'last_update': '2023-04-10T21:08:19Z', 'outcomes': [{'name': 'Baltimore Orioles', 'price': 1.5}, {'name': 'Oakland Athletics', 'price': 2.5}]}]}, {'key': 'coral', 'title': 'Coral', 'last_update': '2023-04-10T21:08:21Z', 'markets': [{'key': 'h2h', 'last_update': '2023-04-10T21:08:21Z', 'outcomes': [{'name': 'Baltimore Orioles', 'price': 1.55}, {'name': 'Oakland Athletics', 'price': 2.5}]}]}, {'key': 'unibet_uk', 'title': 'Unibet', 'last_update': '2023-04-10T21:08:21Z', 'markets': [{'key': 'h2h', 'last_update': '2023-04-10T21:08:21Z', 'outcomes': [{'name': 'Baltimore Orioles', 'price': 1.51}, {'name': 'Oakland Athletics', 'price': 2.6}]}]}, {'key': 'casumo', 'title': 'Casumo', 'last_update': '2023-04-10T21:08:21Z', 'markets': [{'key': 'h2h', 'last_update': '2023-04-10T21:08:21Z', 'outcomes': [{'name': 'Baltimore Orioles', 'price': 1.53}, {'name': 'Oakland Athletics', 'price': 2.63}]}]}, {'key': 'mrgreen', 'title': 'Mr Green', 'last_update': '2023-04-10T21:08:21Z', 'markets': [{'key': 'h2h', 'last_update': '2023-04-10T21:08:21Z', 'outcomes': [{'name': 'Baltimore Orioles', 'price': 1.5}, {'name': 'Oakland Athletics', 'price': 2.6}]}]}, {'key': 'betfair', 'title': 'Betfair', 'last_update': '2023-04-10T21:08:21Z', 'markets': [{'key': 'h2h', 'last_update': '2023-04-10T21:08:21Z', 'outcomes': [{'name': 'Baltimore Orioles', 'price': 1.58}, {'name': 'Oakland Athletics', 'price': 2.68}]}, {'key': 'h2h_lay', 'last_update': '2023-04-10T21:08:21Z', 'outcomes': [{'name': 'Baltimore Orioles', 'price': 1.59}, {'name': 'Oakland Athletics', 'price': 2.74}]}]}]}, {'id': '55ecc9763564b5aa5ff59deff7fd5322', 'sport_key': 'baseball_mlb', 'sport_title': 'MLB', 'commence_time': '2023-04-10T22:35:00Z', 'home_team': 'Pittsburgh Pirates', 'away_team': 'Houston Astros', 'bookmakers': [{'key': 'ladbrokes', 'title': 'Ladbrokes', 'last_update': '2023-04-10T21:08:19Z', 'markets': [{'key': 'h2h', 'last_update': '2023-04-10T21:08:19Z', 'outcomes': [{'name': 'Houston Astros', 'price': 1.55}, {'name': 'Pittsburgh Pirates', 'price': 2.5}]}]}, {'key': 'williamhill', 'title': 'William Hill', 'last_update': '2023-04-10T21:08:19Z', 'markets': [{'key': 'h2h', 'last_update': '2023-04-10T21:08:19Z', 'outcomes': [{'name': 'Houston Astros', 'price': 1.56}, {'name': 'Pittsburgh Pirates', 'price': 2.6}]}]}, {'key': 'betfair_sb_uk', 'title': 'Betfair Sportsbook', 'last_update': '2023-04-10T21:08:22Z', 'markets': [{'key': 'h2h', 'last_update': '2023-04-10T21:08:22Z', 'outcomes': [{'name': 'Houston Astros', 'price': 1.53}, {'name': 'Pittsburgh Pirates', 'price': 2.6}]}]}, {'key': 'paddypower', 'title': 'Paddy Power', 'last_update': '2023-04-10T21:08:19Z', 'markets': [{'key': 'h2h', 'last_update': '2023-04-10T21:08:19Z', 'outcomes': [{'name': 'Houston Astros', 'price': 1.5}, {'name': 'Pittsburgh Pirates', 'price': 2.5}]}]}, {'key': 'coral', 'title': 'Coral', 'last_update': '2023-04-10T21:08:21Z', 'markets': [{'key': 'h2h', 'last_update': '2023-04-10T21:08:21Z', 'outcomes': [{'name': 'Houston Astros', 'price': 1.53}, {'name': 'Pittsburgh Pirates', 'price': 2.5}]}]}, {'key': 'casumo', 'title': 'Casumo', 'last_update': '2023-04-10T21:08:21Z', 'markets': [{'key': 'h2h', 'last_update': '2023-04-10T21:08:21Z', 'outcomes': [{'name': 'Houston Astros', 'price': 1.51}, {'name': 'Pittsburgh Pirates', 'price': 2.65}]}]}, {'key': 'mrgreen', 'title': 'Mr Green', 'last_update': '2023-04-10T21:08:21Z', 'markets': [{'key': 'h2h', 'last_update': '2023-04-10T21:08:21Z', 'outcomes': [{'name': 'Houston Astros', 'price': 1.49}, {'name': 'Pittsburgh Pirates', 'price': 2.63}]}]}, {'key': 'unibet_uk', 'title': 'Unibet', 'last_update': '2023-04-10T21:08:21Z', 'markets': [{'key': 'h2h', 'last_update': '2023-04-10T21:08:21Z', 'outcomes': [{'name': 'Houston Astros', 'price': 1.5}, {'name': 'Pittsburgh Pirates', 'price': 2.65}]}]}, {'key': 'betfair', 'title': 'Betfair', 'last_update': '2023-04-10T21:08:21Z', 'markets': [{'key': 'h2h', 'last_update': '2023-04-10T21:08:21Z', 'outcomes': [{'name': 'Houston Astros', 'price': 1.58}, {'name': 'Pittsburgh Pirates', 'price': 2.66}]}, {'key': 'h2h_lay', 'last_update': '2023-04-10T21:08:21Z', 'outcomes': [{'name': 'Houston Astros', 'price': 1.6}, {'name': 'Pittsburgh Pirates', 'price': 2.72}]}]}]}, {'id': '061e02e1f761bc8e659b7e76417370c9', 'sport_key': 'baseball_mlb', 'sport_title': 'MLB', 'commence_time': '2023-04-10T22:40:00Z', 'home_team': 'Tampa Bay Rays', 'away_team': 'Boston Red Sox', 'bookmakers': [{'key': 'ladbrokes', 'title': 'Ladbrokes', 'last_update': '2023-04-10T21:08:19Z', 'markets': [{'key': 'h2h', 'last_update': '2023-04-10T21:08:19Z', 'outcomes': [{'name': 'Boston Red Sox', 'price': 2.25}, {'name': 'Tampa Bay Rays', 'price': 1.65}]}]}, {'key': 'williamhill', 'title': 'William Hill', 'last_update': '2023-04-10T21:08:19Z', 'markets': [{'key': 'h2h', 'last_update': '2023-04-10T21:08:19Z', 'outcomes': [{'name': 'Boston Red Sox', 'price': 2.4}, {'name': 'Tampa Bay Rays', 'price': 1.62}]}]}, {'key': 'paddypower', 'title': 'Paddy Power', 'last_update': '2023-04-10T21:08:19Z', 'markets': [{'key': 'h2h', 'last_update': '2023-04-10T21:08:19Z', 'outcomes': [{'name': 'Boston Red Sox', 'price': 2.25}, {'name': 'Tampa Bay Rays', 'price': 1.6}]}]}, {'key': 'mrgreen', 'title': 'Mr Green', 'last_update': '2023-04-10T21:08:21Z', 'markets': [{'key': 'h2h', 'last_update': '2023-04-10T21:08:21Z', 'outcomes': [{'name': 'Boston Red Sox', 'price': 2.3}, {'name': 'Tampa Bay Rays', 'price': 1.61}]}]}, {'key': 'unibet_uk', 'title': 'Unibet', 'last_update': '2023-04-10T21:08:21Z', 'markets': [{'key': 'h2h', 'last_update': '2023-04-10T21:08:21Z', 'outcomes': [{'name': 'Boston Red Sox', 'price': 2.33}, {'name': 'Tampa Bay Rays', 'price': 1.63}]}]}, {'key': 'casumo', 'title': 'Casumo', 'last_update': '2023-04-10T21:08:21Z', 'markets': [{'key': 'h2h', 'last_update': '2023-04-10T21:08:21Z', 'outcomes': [{'name': 'Boston Red Sox', 'price': 2.35}, {'name': 'Tampa Bay Rays', 'price': 1.64}]}]}, {'key': 'coral', 'title': 'Coral', 'last_update': '2023-04-10T21:08:21Z', 'markets': [{'key': 'h2h', 'last_update': '2023-04-10T21:08:21Z', 'outcomes': [{'name': 'Boston Red Sox', 'price': 2.25}, {'name': 'Tampa Bay Rays', 'price': 1.65}]}]}, {'key': 'betfair_sb_uk', 'title': 'Betfair Sportsbook', 'last_update': '2023-04-10T21:08:22Z', 'markets': [{'key': 'h2h', 'last_update': '2023-04-10T21:08:22Z', 'outcomes': [{'name': 'Boston Red Sox', 'price': 2.38}, {'name': 'Tampa Bay Rays', 'price': 1.62}]}]}, {'key': 'betfair', 'title': 'Betfair', 'last_update': '2023-04-10T21:08:21Z', 'markets': [{'key': 'h2h', 'last_update': '2023-04-10T21:08:21Z', 'outcomes': [{'name': 'Boston Red Sox', 'price': 2.38}, {'name': 'Tampa Bay Rays', 'price': 1.7}]}, {'key': 'h2h_lay', 'last_update': '2023-04-10T21:08:21Z', 'outcomes': [{'name': 'Boston Red Sox', 'price': 2.44}, {'name': 'Tampa Bay Rays', 'price': 1.72}]}]}]}, {'id': 'ca9a134409538707cc2f8b6d018bac2a', 'sport_key': 'baseball_mlb', 'sport_title': 'MLB', 'commence_time': '2023-04-10T22:40:00Z', 'home_team': 'Philadelphia Phillies', 'away_team': 'Miami Marlins', 'bookmakers': [{'key': 'ladbrokes', 'title': 'Ladbrokes', 'last_update': '2023-04-10T21:08:19Z', 'markets': [{'key': 'h2h', 'last_update': '2023-04-10T21:08:19Z', 'outcomes': [{'name': 'Miami Marlins', 'price': 1.77}, {'name': 'Philadelphia Phillies', 'price': 2.1}]}]}, {'key': 'williamhill', 'title': 'William Hill', 'last_update': '2023-04-10T21:08:19Z', 'markets': [{'key': 'h2h', 'last_update': '2023-04-10T21:08:19Z', 'outcomes': [{'name': 'Miami Marlins', 'price': 1.77}, {'name': 'Philadelphia Phillies', 'price': 2.1}]}]}, {'key': 'paddypower', 'title': 'Paddy Power', 'last_update': '2023-04-10T21:08:19Z', 'markets': [{'key': 'h2h', 'last_update': '2023-04-10T21:08:19Z', 'outcomes': [{'name': 'Miami Marlins', 'price': 1.73}, {'name': 'Philadelphia Phillies', 'price': 2.05}]}]}, {'key': 'betfair_sb_uk', 'title': 'Betfair Sportsbook', 'last_update': '2023-04-10T21:08:22Z', 'markets': [{'key': 'h2h', 'last_update': '2023-04-10T21:08:22Z', 'outcomes': [{'name': 'Miami Marlins', 'price': 1.75}, {'name': 'Philadelphia Phillies', 'price': 2.1}]}]}, {'key': 'coral', 'title': 'Coral', 'last_update': '2023-04-10T21:08:21Z', 'markets': [{'key': 'h2h', 'last_update': '2023-04-10T21:08:21Z', 'outcomes': [{'name': 'Miami Marlins', 'price': 1.75}, {'name': 'Philadelphia Phillies', 'price': 2.1}]}]}, {'key': 'casumo', 'title': 'Casumo', 'last_update': '2023-04-10T21:08:21Z', 'markets': [{'key': 'h2h', 'last_update': '2023-04-10T21:08:21Z', 'outcomes': [{'name': 'Miami Marlins', 'price': 1.81}, {'name': 'Philadelphia Phillies', 'price': 2.08}]}]}, {'key': 'mrgreen', 'title': 'Mr Green', 'last_update': '2023-04-10T21:08:21Z', 'markets': [{'key': 'h2h', 'last_update': '2023-04-10T21:08:21Z', 'outcomes': [{'name': 'Miami Marlins', 'price': 1.77}, {'name': 'Philadelphia Phillies', 'price': 2.04}]}]}, {'key': 'unibet_uk', 'title': 'Unibet', 'last_update': '2023-04-10T21:08:21Z', 'markets': [{'key': 'h2h', 'last_update': '2023-04-10T21:08:21Z', 'outcomes': [{'name': 'Miami Marlins', 'price': 1.8}, {'name': 'Philadelphia Phillies', 'price': 2.06}]}]}, {'key': 'betfair', 'title': 'Betfair', 'last_update': '2023-04-10T21:08:21Z', 'markets': [{'key': 'h2h', 'last_update': '2023-04-10T21:08:21Z', 'outcomes': [{'name': 'Miami Marlins', 'price': 1.8}, {'name': 'Philadelphia Phillies', 'price': 2.22}]}, {'key': 'h2h_lay', 'last_update': '2023-04-10T21:08:21Z', 'outcomes': [{'name': 'Miami Marlins', 'price': 1.81}, {'name': 'Philadelphia Phillies', 'price': 2.26}]}]}]}, {'id': 'e7a1ac4a074a5f2373455cb6af914383', 'sport_key': 'icehockey_nhl', 'sport_title': 'NHL', 'commence_time': '2023-04-10T23:00:00Z', 'home_team': 'New York Rangers', 'away_team': 'Buffalo Sabres', 'bookmakers': [{'key': 'paddypower', 'title': 'Paddy Power', 'last_update': '2023-04-10T21:06:48Z', 'markets': [{'key': 'h2h', 'last_update': '2023-04-10T21:06:48Z', 'outcomes': [{'name': 'Buffalo Sabres', 'price': 3.5}, {'name': 'New York Rangers', 'price': 1.73}, {'name': 'Draw', 'price': 4.33}]}]}, {'key': 'betvictor', 'title': 'Bet Victor', 'last_update': '2023-04-10T21:06:49Z', 'markets': [{'key': 'h2h', 'last_update': '2023-04-10T21:06:49Z', 'outcomes': [{'name': 'Buffalo Sabres', 'price': 2.55}, {'name': 'New York Rangers', 'price': 1.45}]}]}, {'key': 'betfair_sb_uk', 'title': 'Betfair Sportsbook', 'last_update': '2023-04-10T21:06:52Z', 'markets': [{'key': 'h2h', 'last_update': '2023-04-10T21:06:52Z', 'outcomes': [{'name': 'Buffalo Sabres', 'price': 2.63}, {'name': 'New York Rangers', 'price': 1.5}]}]}, {'key': 'sport888', 'title': '888sport', 'last_update': '2023-04-10T21:06:49Z', 'markets': [{'key': 'h2h', 'last_update': '2023-04-10T21:06:49Z', 'outcomes': [{'name': 'Buffalo Sabres', 'price': 2.8}, {'name': 'New York Rangers', 'price': 1.45}]}]}, {'key': 'betfair', 'title': 'Betfair', 'last_update': '2023-04-10T21:08:13Z', 'markets': [{'key': 'h2h', 'last_update': '2023-04-10T21:08:13Z', 'outcomes': [{'name': 'Buffalo Sabres', 'price': 3.0}, {'name': 'New York Rangers', 'price': 1.48}]}, {'key': 'h2h_lay', 'last_update': '2023-04-10T21:08:13Z', 'outcomes': [{'name': 'Buffalo Sabres', 'price': 3.05}, {'name': 'New York Rangers', 'price': 1.5}]}]}, {'key': 'virginbet', 'title': 'Virgin Bet', 'last_update': '2023-04-10T21:06:50Z', 'markets': [{'key': 'h2h', 'last_update': '2023-04-10T21:06:50Z', 'outcomes': [{'name': 'Buffalo Sabres', 'price': 2.8}, {'name': 'New York Rangers', 'price': 1.44}]}]}, {'key': 'casumo', 'title': 'Casumo', 'last_update': '2023-04-10T21:06:50Z', 'markets': [{'key': 'h2h', 'last_update': '2023-04-10T21:06:50Z', 'outcomes': [{'name': 'Buffalo Sabres', 'price': 3.75}, {'name': 'New York Rangers', 'price': 1.75}, {'name': 'Draw', 'price': 4.6}]}]}, {'key': 'ladbrokes', 'title': 'Ladbrokes', 'last_update': '2023-04-10T21:08:11Z', 'markets': [{'key': 'h2h', 'last_update': '2023-04-10T21:08:11Z', 'outcomes': [{'name': 'Buffalo Sabres', 'price': 2.75}, {'name': 'New York Rangers', 'price': 1.45}]}]}, {'key': 'coral', 'title': 'Coral', 'last_update': '2023-04-10T21:06:50Z', 'markets': [{'key': 'h2h', 'last_update': '2023-04-10T21:06:50Z', 'outcomes': [{'name': 'Buffalo Sabres', 'price': 2.8}, {'name': 'New York Rangers', 'price': 1.44}]}]}, {'key': 'matchbook', 'title': 'Matchbook', 'last_update': '2023-04-10T21:08:11Z', 'markets': [{'key': 'h2h', 'last_update': '2023-04-10T21:08:11Z', 'outcomes': [{'name': 'Buffalo Sabres', 'price': 3.0}, {'name': 'New York Rangers', 'price': 1.49}]}, {'key': 'h2h_lay', 'last_update': '2023-04-10T21:08:11Z', 'outcomes': [{'name': 'Buffalo Sabres', 'price': 3.05}, {'name': 'New York Rangers', 'price': 1.5}]}]}]}, {'id': 'd18db1da08e00edba272ee5d854cfc41', 'sport_key': 'icehockey_nhl', 'sport_title': 'NHL', 'commence_time': '2023-04-10T23:00:00Z', 'home_team': 'Ottawa Senators', 'away_team': 'Carolina Hurricanes', 'bookmakers': [{'key': 'paddypower', 'title': 'Paddy Power', 'last_update': '2023-04-10T21:06:48Z', 'markets': [{'key': 'h2h', 'last_update': '2023-04-10T21:06:48Z', 'outcomes': [{'name': 'Carolina Hurricanes', 'price': 1.53}, {'name': 'Ottawa Senators', 'price': 2.45}]}]}, {'key': 'sport888', 'title': '888sport', 'last_update': '2023-04-10T21:06:49Z', 'markets': [{'key': 'h2h', 'last_update': '2023-04-10T21:06:49Z', 'outcomes': [{'name': 'Carolina Hurricanes', 'price': 1.53}, {'name': 'Ottawa Senators', 'price': 2.55}]}]}, {'key': 'betvictor', 'title': 'Bet Victor', 'last_update': '2023-04-10T21:06:49Z', 'markets': [{'key': 'h2h', 'last_update': '2023-04-10T21:06:49Z', 'outcomes': [{'name': 'Carolina Hurricanes', 'price': 1.5}, {'name': 'Ottawa Senators', 'price': 2.38}]}]}, {'key': 'betfair_sb_uk', 'title': 'Betfair Sportsbook', 'last_update': '2023-04-10T21:06:52Z', 'markets': [{'key': 'h2h', 'last_update': '2023-04-10T21:06:52Z', 'outcomes': [{'name': 'Carolina Hurricanes', 'price': 1.53}, {'name': 'Ottawa Senators', 'price': 2.5}]}]}, {'key': 'betfair', 'title': 'Betfair', 'last_update': '2023-04-10T21:08:13Z', 'markets': [{'key': 'h2h', 'last_update': '2023-04-10T21:08:13Z', 'outcomes': [{'name': 'Carolina Hurricanes', 'price': 1.57}, {'name': 'Ottawa Senators', 'price': 2.68}]}, {'key': 'h2h_lay', 'last_update': '2023-04-10T21:08:13Z', 'outcomes': [{'name': 'Carolina Hurricanes', 'price': 1.6}, {'name': 'Ottawa Senators', 'price': 2.74}]}]}, {'key': 'virginbet', 'title': 'Virgin Bet', 'last_update': '2023-04-10T21:06:50Z', 'markets': [{'key': 'h2h', 'last_update': '2023-04-10T21:06:50Z', 'outcomes': [{'name': 'Carolina Hurricanes', 'price': 1.5}, {'name': 'Ottawa Senators', 'price': 2.6}]}]}, {'key': 'casumo', 'title': 'Casumo', 'last_update': '2023-04-10T21:06:50Z', 'markets': [{'key': 'h2h', 'last_update': '2023-04-10T21:06:50Z', 'outcomes': [{'name': 'Carolina Hurricanes', 'price': 1.88}, {'name': 'Ottawa Senators', 'price': 3.4}, {'name': 'Draw', 'price': 4.4}]}]}, {'key': 'ladbrokes', 'title': 'Ladbrokes', 'last_update': '2023-04-10T21:08:11Z', 'markets': [{'key': 'h2h', 'last_update': '2023-04-10T21:08:11Z', 'outcomes': [{'name': 'Carolina Hurricanes', 'price': 1.53}, {'name': 'Ottawa Senators', 'price': 2.55}]}]}, {'key': 'coral', 'title': 'Coral', 'last_update': '2023-04-10T21:06:50Z', 'markets': [{'key': 'h2h', 'last_update': '2023-04-10T21:06:50Z', 'outcomes': [{'name': 'Carolina Hurricanes', 'price': 1.53}, {'name': 'Ottawa Senators', 'price': 2.5}]}]}, {'key': 'matchbook', 'title': 'Matchbook', 'last_update': '2023-04-10T21:08:11Z', 'markets': [{'key': 'h2h', 'last_update': '2023-04-10T21:08:11Z', 'outcomes': [{'name': 'Carolina Hurricanes', 'price': 1.6}, {'name': 'Ottawa Senators', 'price': 2.64}]}, {'key': 'h2h_lay', 'last_update': '2023-04-10T21:08:11Z', 'outcomes': [{'name': 'Carolina Hurricanes', 'price': 1.61}, {'name': 'Ottawa Senators', 'price': 2.68}]}]}]}, {'id': 'c0988e715bee9fec5d8e6bb272cc6135', 'sport_key': 'icehockey_nhl', 'sport_title': 'NHL', 'commence_time': '2023-04-10T23:00:00Z', 'home_team': 'Detroit Red Wings', 'away_team': 'Dallas Stars', 'bookmakers': [{'key': 'paddypower', 'title': 'Paddy Power', 'last_update': '2023-04-10T21:06:48Z', 'markets': [{'key': 'h2h', 'last_update': '2023-04-10T21:06:48Z', 'outcomes': [{'name': 'Dallas Stars', 'price': 1.83}, {'name': 'Detroit Red Wings', 'price': 3.2}, {'name': 'Draw', 'price': 4.2}]}]}, {'key': 'sport888', 'title': '888sport', 'last_update': '2023-04-10T21:06:49Z', 'markets': [{'key': 'h2h', 'last_update': '2023-04-10T21:06:49Z', 'outcomes': [{'name': 'Dallas Stars', 'price': 1.53}, {'name': 'Detroit Red Wings', 'price': 2.55}]}]}, {'key': 'betvictor', 'title': 'Bet Victor', 'last_update': '2023-04-10T21:06:49Z', 'markets': [{'key': 'h2h', 'last_update': '2023-04-10T21:06:49Z', 'outcomes': [{'name': 'Dallas Stars', 'price': 1.5}, {'name': 'Detroit Red Wings', 'price': 2.38}]}]}, {'key': 'betfair_sb_uk', 'title': 'Betfair Sportsbook', 'last_update': '2023-04-10T21:06:52Z', 'markets': [{'key': 'h2h', 'last_update': '2023-04-10T21:06:52Z', 'outcomes': [{'name': 'Dallas Stars', 'price': 1.53}, {'name': 'Detroit Red Wings', 'price': 2.5}]}]}, {'key': 'betfair', 'title': 'Betfair', 'last_update': '2023-04-10T21:08:13Z', 'markets': [{'key': 'h2h', 'last_update': '2023-04-10T21:08:13Z', 'outcomes': [{'name': 'Dallas Stars', 'price': 1.6}, {'name': 'Detroit Red Wings', 'price': 2.62}]}, {'key': 'h2h_lay', 'last_update': '2023-04-10T21:08:13Z', 'outcomes': [{'name': 'Dallas Stars', 'price': 1.62}, {'name': 'Detroit Red Wings', 'price': 2.68}]}]}, {'key': 'virginbet', 'title': 'Virgin Bet', 'last_update': '2023-04-10T21:06:50Z', 'markets': [{'key': 'h2h', 'last_update': '2023-04-10T21:06:50Z', 'outcomes': [{'name': 'Dallas Stars', 'price': 1.53}, {'name': 'Detroit Red Wings', 'price': 2.55}]}]}, {'key': 'casumo', 'title': 'Casumo', 'last_update': '2023-04-10T21:06:50Z', 'markets': [{'key': 'h2h', 'last_update': '2023-04-10T21:06:50Z', 'outcomes': [{'name': 'Dallas Stars', 'price': 1.88}, {'name': 'Detroit Red Wings', 'price': 3.45}, {'name': 'Draw', 'price': 4.35}]}]}, {'key': 'ladbrokes', 'title': 'Ladbrokes', 'last_update': '2023-04-10T21:08:11Z', 'markets': [{'key': 'h2h', 'last_update': '2023-04-10T21:08:11Z', 'outcomes': [{'name': 'Dallas Stars', 'price': 1.55}, {'name': 'Detroit Red Wings', 'price': 2.5}]}]}, {'key': 'coral', 'title': 'Coral', 'last_update': '2023-04-10T21:06:50Z', 'markets': [{'key': 'h2h', 'last_update': '2023-04-10T21:06:50Z', 'outcomes': [{'name': 'Dallas Stars', 'price': 1.55}, {'name': 'Detroit Red Wings', 'price': 2.5}]}]}, {'key': 'matchbook', 'title': 'Matchbook', 'last_update': '2023-04-10T21:08:11Z', 'markets': [{'key': 'h2h', 'last_update': '2023-04-10T21:08:11Z', 'outcomes': [{'name': 'Dallas Stars', 'price': 1.6}, {'name': 'Detroit Red Wings', 'price': 2.62}]}, {'key': 'h2h_lay', 'last_update': '2023-04-10T21:08:11Z', 'outcomes': [{'name': 'Dallas Stars', 'price': 1.62}, {'name': 'Detroit Red Wings', 'price': 2.68}]}]}]}]\n"
          ]
        }
      ],
      "source": [
        "# odds_response\n",
        "print(odds_response)"
      ],
      "id": "a406cfc7"
    },
    {
      "cell_type": "markdown",
      "metadata": {
        "id": "795b37df"
      },
      "source": [
        "### Event Class\n",
        "- Each ``Event`` object represents an indivudal sporting event\n",
        "- The ``data`` parameter contains all of the odds data that is received from the API call"
      ],
      "id": "795b37df"
    },
    {
      "cell_type": "code",
      "execution_count": 52,
      "metadata": {
        "id": "bccd45dc"
      },
      "outputs": [],
      "source": [
        "BOOKMAKER_INDEX = 0\n",
        "NAME_INDEX = 1\n",
        "ODDS_INDEX = 2\n",
        "FIRST = 0\n",
        "\n",
        "class Event:\n",
        "    def __init__(self, data):\n",
        "        self.data = data\n",
        "        self.sport_key = data['sport_key']\n",
        "        self.id = data['id']\n",
        "        \n",
        "    def find_best_odds(self):\n",
        "        # number of possible outcomes for a sporting event\n",
        "        num_outcomes = len(self.data['bookmakers'][FIRST]['markets'][FIRST]['outcomes'])\n",
        "        self.num_outcomes = num_outcomes\n",
        "\n",
        "        # finding the best odds for each outcome in each event\n",
        "        best_odds = [[None, None, float('-inf')] for _ in range(num_outcomes)]\n",
        "        # [Bookmaker, Name, Price]\n",
        "\n",
        "        bookmakers = event.data['bookmakers']\n",
        "        for index, bookmaker in enumerate(bookmakers):\n",
        "\n",
        "            # determing the odds offered by each bookmaker\n",
        "            for outcome in range(num_outcomes):\n",
        "\n",
        "                # determining if any of the bookmaker odds are better than the current best odds\n",
        "                bookmaker_odds = float(bookmaker['markets'][FIRST]['outcomes'][outcome]['price'])\n",
        "                current_best_odds = best_odds[outcome][ODDS_INDEX]\n",
        "\n",
        "                if bookmaker_odds > current_best_odds:\n",
        "                    best_odds[outcome][BOOKMAKER_INDEX] = bookmaker['title']\n",
        "                    best_odds[outcome][NAME_INDEX] = bookmaker['markets'][FIRST]['outcomes'][outcome]['name']\n",
        "                    best_odds[outcome][ODDS_INDEX] = bookmaker_odds\n",
        "                    \n",
        "        self.best_odds = best_odds\n",
        "        return best_odds\n",
        "    \n",
        "    def arbitrage(self):\n",
        "        total_arbitrage_percentage = 0\n",
        "        for odds in self.best_odds:\n",
        "            total_arbitrage_percentage += (1.0 / odds[ODDS_INDEX])\n",
        "            \n",
        "        self.total_arbitrage_percentage = total_arbitrage_percentage\n",
        "        self.expected_earnings = (BET_SIZE / total_arbitrage_percentage) - BET_SIZE\n",
        "        \n",
        "        # if the sum of the reciprocals of the odds is less than 1, there is opportunity for arbitrage\n",
        "        if total_arbitrage_percentage < 1:\n",
        "            return True\n",
        "        return False\n",
        "    \n",
        "    # converts decimal/European best odds to American best odds\n",
        "    def convert_decimal_to_american(self):\n",
        "        best_odds = self.best_odds\n",
        "        for odds in best_odds:\n",
        "            decimal = odds[ODDS_INDEX]\n",
        "            if decimal >= 2:\n",
        "                american = (decimal - 1) * 100\n",
        "            elif decimal < 2:\n",
        "                american = -100 / (decimal - 1)\n",
        "            odds[ODDS_INDEX] = round(american, 2)\n",
        "        return best_odds\n",
        "     \n",
        "    def calculate_arbitrage_bets(self):\n",
        "        bet_amounts = []\n",
        "        for outcome in range(self.num_outcomes):\n",
        "            individual_arbitrage_percentage = 1 / self.best_odds[outcome][ODDS_INDEX]\n",
        "            bet_amount = (BET_SIZE * individual_arbitrage_percentage) / self.total_arbitrage_percentage\n",
        "            bet_amounts.append(round(bet_amount, 2))\n",
        "        \n",
        "        self.bet_amounts = bet_amounts\n",
        "        return bet_amounts"
      ],
      "id": "bccd45dc"
    },
    {
      "cell_type": "markdown",
      "metadata": {
        "id": "0737847a"
      },
      "source": [
        "### Parsing Events and Calculating Arbitrage Bets\n",
        "- `BET_SIZE` is the amount of money in USD that you would like to bet across the outcomes of an event.\n",
        "- This calculation will used unbiased arbitrage, where the profit is the same regardless of the outcome."
      ],
      "id": "0737847a"
    },
    {
      "cell_type": "code",
      "execution_count": 54,
      "metadata": {
        "id": "9d71f761",
        "outputId": "42502749-15fe-48ac-a693-89bbeeecc427",
        "colab": {
          "base_uri": "https://localhost:8080/"
        }
      },
      "outputs": [
        {
          "output_type": "stream",
          "name": "stdout",
          "text": [
            "{'id': 'b8cdf0376b7b8da54ddc35adfd9be3da', 'sport_key': 'soccer_portugal_primeira_liga', 'sport_title': 'Primeira Liga - Portugal', 'commence_time': '2023-04-10T19:16:39Z', 'home_team': 'Gil Vicente', 'away_team': 'Chaves', 'bookmakers': [{'key': 'coral', 'title': 'Coral', 'last_update': '2023-04-10T21:06:16Z', 'markets': [{'key': 'h2h', 'last_update': '2023-04-10T21:06:16Z', 'outcomes': [{'name': 'Chaves', 'price': 10.0}, {'name': 'Gil Vicente', 'price': 7.0}, {'name': 'Draw', 'price': 1.22}]}]}, {'key': 'sport888', 'title': '888sport', 'last_update': '2023-04-10T21:07:56Z', 'markets': [{'key': 'h2h', 'last_update': '2023-04-10T21:07:56Z', 'outcomes': [{'name': 'Chaves', 'price': 12.0}, {'name': 'Gil Vicente', 'price': 10.0}, {'name': 'Draw', 'price': 1.12}]}]}, {'key': 'paddypower', 'title': 'Paddy Power', 'last_update': '2023-04-10T21:07:55Z', 'markets': [{'key': 'h2h', 'last_update': '2023-04-10T21:07:55Z', 'outcomes': [{'name': 'Chaves', 'price': 10.0}, {'name': 'Gil Vicente', 'price': 9.0}, {'name': 'Draw', 'price': 1.12}]}]}, {'key': 'betway', 'title': 'Betway', 'last_update': '2023-04-10T21:07:57Z', 'markets': [{'key': 'h2h', 'last_update': '2023-04-10T21:07:57Z', 'outcomes': [{'name': 'Chaves', 'price': 12.0}, {'name': 'Gil Vicente', 'price': 7.5}, {'name': 'Draw', 'price': 1.14}]}]}, {'key': 'betfair', 'title': 'Betfair', 'last_update': '2023-04-10T21:07:57Z', 'markets': [{'key': 'h2h', 'last_update': '2023-04-10T21:07:57Z', 'outcomes': [{'name': 'Chaves', 'price': 11.0}, {'name': 'Gil Vicente', 'price': 9.0}, {'name': 'Draw', 'price': 1.22}]}, {'key': 'h2h_lay', 'last_update': '2023-04-10T21:07:57Z', 'outcomes': [{'name': 'Chaves', 'price': 16.5}, {'name': 'Gil Vicente', 'price': 9.6}, {'name': 'Draw', 'price': 1.25}]}]}, {'key': 'virginbet', 'title': 'Virgin Bet', 'last_update': '2023-04-10T21:07:57Z', 'markets': [{'key': 'h2h', 'last_update': '2023-04-10T21:07:57Z', 'outcomes': [{'name': 'Chaves', 'price': 11.0}, {'name': 'Gil Vicente', 'price': 9.5}, {'name': 'Draw', 'price': 1.09}]}]}, {'key': 'livescorebet', 'title': 'LiveScore Bet', 'last_update': '2023-04-10T21:07:57Z', 'markets': [{'key': 'h2h', 'last_update': '2023-04-10T21:07:57Z', 'outcomes': [{'name': 'Chaves', 'price': 11.0}, {'name': 'Gil Vicente', 'price': 9.5}, {'name': 'Draw', 'price': 1.09}]}]}, {'key': 'betfair_sb_uk', 'title': 'Betfair Sportsbook', 'last_update': '2023-04-10T21:07:59Z', 'markets': [{'key': 'h2h', 'last_update': '2023-04-10T21:07:59Z', 'outcomes': [{'name': 'Chaves', 'price': 11.0}, {'name': 'Gil Vicente', 'price': 9.0}, {'name': 'Draw', 'price': 1.14}]}]}, {'key': 'matchbook', 'title': 'Matchbook', 'last_update': '2023-04-10T21:06:14Z', 'markets': [{'key': 'h2h', 'last_update': '2023-04-10T21:06:14Z', 'outcomes': [{'name': 'Chaves', 'price': 10.5}, {'name': 'Gil Vicente', 'price': 7.4}, {'name': 'Draw', 'price': 1.19}]}, {'key': 'h2h_lay', 'last_update': '2023-04-10T21:06:14Z', 'outcomes': [{'name': 'Chaves', 'price': 19.0}, {'name': 'Gil Vicente', 'price': 15.5}, {'name': 'Draw', 'price': 1.63}]}]}, {'key': 'mrgreen', 'title': 'Mr Green', 'last_update': '2023-04-10T21:07:58Z', 'markets': [{'key': 'h2h', 'last_update': '2023-04-10T21:07:58Z', 'outcomes': [{'name': 'Chaves', 'price': 12.5}, {'name': 'Gil Vicente', 'price': 8.5}, {'name': 'Draw', 'price': 1.14}]}]}, {'key': 'leovegas', 'title': 'LeoVegas', 'last_update': '2023-04-10T21:07:58Z', 'markets': [{'key': 'h2h', 'last_update': '2023-04-10T21:07:58Z', 'outcomes': [{'name': 'Chaves', 'price': 12.0}, {'name': 'Gil Vicente', 'price': 8.0}, {'name': 'Draw', 'price': 1.11}]}]}, {'key': 'unibet_uk', 'title': 'Unibet', 'last_update': '2023-04-10T21:07:58Z', 'markets': [{'key': 'h2h', 'last_update': '2023-04-10T21:07:58Z', 'outcomes': [{'name': 'Chaves', 'price': 13.0}, {'name': 'Gil Vicente', 'price': 8.5}, {'name': 'Draw', 'price': 1.15}]}]}, {'key': 'casumo', 'title': 'Casumo', 'last_update': '2023-04-10T21:07:58Z', 'markets': [{'key': 'h2h', 'last_update': '2023-04-10T21:07:58Z', 'outcomes': [{'name': 'Chaves', 'price': 14.0}, {'name': 'Gil Vicente', 'price': 9.0}, {'name': 'Draw', 'price': 1.15}]}]}]}\n",
            "\n",
            "{'id': '282119b05ce8a1a4dc3e5d6c9f63f8f5', 'sport_key': 'baseball_mlb', 'sport_title': 'MLB', 'commence_time': '2023-04-10T22:10:00Z', 'home_team': 'Cleveland Guardians', 'away_team': 'New York Yankees', 'bookmakers': [{'key': 'ladbrokes', 'title': 'Ladbrokes', 'last_update': '2023-04-10T21:08:19Z', 'markets': [{'key': 'h2h', 'last_update': '2023-04-10T21:08:19Z', 'outcomes': [{'name': 'Cleveland Guardians', 'price': 1.62}, {'name': 'New York Yankees', 'price': 2.35}]}]}, {'key': 'williamhill', 'title': 'William Hill', 'last_update': '2023-04-10T21:08:19Z', 'markets': [{'key': 'h2h', 'last_update': '2023-04-10T21:08:19Z', 'outcomes': [{'name': 'Cleveland Guardians', 'price': 1.67}, {'name': 'New York Yankees', 'price': 2.3}]}]}, {'key': 'betfair_sb_uk', 'title': 'Betfair Sportsbook', 'last_update': '2023-04-10T21:08:22Z', 'markets': [{'key': 'h2h', 'last_update': '2023-04-10T21:08:22Z', 'outcomes': [{'name': 'Cleveland Guardians', 'price': 1.67}, {'name': 'New York Yankees', 'price': 2.25}]}]}, {'key': 'paddypower', 'title': 'Paddy Power', 'last_update': '2023-04-10T21:08:19Z', 'markets': [{'key': 'h2h', 'last_update': '2023-04-10T21:08:19Z', 'outcomes': [{'name': 'Cleveland Guardians', 'price': 1.6}, {'name': 'New York Yankees', 'price': 2.25}]}]}, {'key': 'coral', 'title': 'Coral', 'last_update': '2023-04-10T21:08:21Z', 'markets': [{'key': 'h2h', 'last_update': '2023-04-10T21:08:21Z', 'outcomes': [{'name': 'Cleveland Guardians', 'price': 1.67}, {'name': 'New York Yankees', 'price': 2.25}]}]}, {'key': 'mrgreen', 'title': 'Mr Green', 'last_update': '2023-04-10T21:08:21Z', 'markets': [{'key': 'h2h', 'last_update': '2023-04-10T21:08:21Z', 'outcomes': [{'name': 'Cleveland Guardians', 'price': 1.63}, {'name': 'New York Yankees', 'price': 2.28}]}]}, {'key': 'unibet_uk', 'title': 'Unibet', 'last_update': '2023-04-10T21:08:21Z', 'markets': [{'key': 'h2h', 'last_update': '2023-04-10T21:08:21Z', 'outcomes': [{'name': 'Cleveland Guardians', 'price': 1.64}, {'name': 'New York Yankees', 'price': 2.3}]}]}, {'key': 'casumo', 'title': 'Casumo', 'last_update': '2023-04-10T21:08:21Z', 'markets': [{'key': 'h2h', 'last_update': '2023-04-10T21:08:21Z', 'outcomes': [{'name': 'Cleveland Guardians', 'price': 1.65}, {'name': 'New York Yankees', 'price': 2.32}]}]}, {'key': 'betfair', 'title': 'Betfair', 'last_update': '2023-04-10T21:08:21Z', 'markets': [{'key': 'h2h', 'last_update': '2023-04-10T21:08:21Z', 'outcomes': [{'name': 'Cleveland Guardians', 'price': 1.68}, {'name': 'New York Yankees', 'price': 2.44}]}, {'key': 'h2h_lay', 'last_update': '2023-04-10T21:08:21Z', 'outcomes': [{'name': 'Cleveland Guardians', 'price': 1.7}, {'name': 'New York Yankees', 'price': 2.46}]}]}]}\n",
            "\n",
            "{'id': '1aec069c63e0e96b762699a58044c4c2', 'sport_key': 'baseball_mlb', 'sport_title': 'MLB', 'commence_time': '2023-04-10T22:35:00Z', 'home_team': 'Baltimore Orioles', 'away_team': 'Oakland Athletics', 'bookmakers': [{'key': 'ladbrokes', 'title': 'Ladbrokes', 'last_update': '2023-04-10T21:08:19Z', 'markets': [{'key': 'h2h', 'last_update': '2023-04-10T21:08:19Z', 'outcomes': [{'name': 'Baltimore Orioles', 'price': 1.53}, {'name': 'Oakland Athletics', 'price': 2.55}]}]}, {'key': 'williamhill', 'title': 'William Hill', 'last_update': '2023-04-10T21:08:19Z', 'markets': [{'key': 'h2h', 'last_update': '2023-04-10T21:08:19Z', 'outcomes': [{'name': 'Baltimore Orioles', 'price': 1.56}, {'name': 'Oakland Athletics', 'price': 2.6}]}]}, {'key': 'betfair_sb_uk', 'title': 'Betfair Sportsbook', 'last_update': '2023-04-10T21:08:22Z', 'markets': [{'key': 'h2h', 'last_update': '2023-04-10T21:08:22Z', 'outcomes': [{'name': 'Baltimore Orioles', 'price': 1.53}, {'name': 'Oakland Athletics', 'price': 2.6}]}]}, {'key': 'paddypower', 'title': 'Paddy Power', 'last_update': '2023-04-10T21:08:19Z', 'markets': [{'key': 'h2h', 'last_update': '2023-04-10T21:08:19Z', 'outcomes': [{'name': 'Baltimore Orioles', 'price': 1.5}, {'name': 'Oakland Athletics', 'price': 2.5}]}]}, {'key': 'coral', 'title': 'Coral', 'last_update': '2023-04-10T21:08:21Z', 'markets': [{'key': 'h2h', 'last_update': '2023-04-10T21:08:21Z', 'outcomes': [{'name': 'Baltimore Orioles', 'price': 1.55}, {'name': 'Oakland Athletics', 'price': 2.5}]}]}, {'key': 'unibet_uk', 'title': 'Unibet', 'last_update': '2023-04-10T21:08:21Z', 'markets': [{'key': 'h2h', 'last_update': '2023-04-10T21:08:21Z', 'outcomes': [{'name': 'Baltimore Orioles', 'price': 1.51}, {'name': 'Oakland Athletics', 'price': 2.6}]}]}, {'key': 'casumo', 'title': 'Casumo', 'last_update': '2023-04-10T21:08:21Z', 'markets': [{'key': 'h2h', 'last_update': '2023-04-10T21:08:21Z', 'outcomes': [{'name': 'Baltimore Orioles', 'price': 1.53}, {'name': 'Oakland Athletics', 'price': 2.63}]}]}, {'key': 'mrgreen', 'title': 'Mr Green', 'last_update': '2023-04-10T21:08:21Z', 'markets': [{'key': 'h2h', 'last_update': '2023-04-10T21:08:21Z', 'outcomes': [{'name': 'Baltimore Orioles', 'price': 1.5}, {'name': 'Oakland Athletics', 'price': 2.6}]}]}, {'key': 'betfair', 'title': 'Betfair', 'last_update': '2023-04-10T21:08:21Z', 'markets': [{'key': 'h2h', 'last_update': '2023-04-10T21:08:21Z', 'outcomes': [{'name': 'Baltimore Orioles', 'price': 1.58}, {'name': 'Oakland Athletics', 'price': 2.68}]}, {'key': 'h2h_lay', 'last_update': '2023-04-10T21:08:21Z', 'outcomes': [{'name': 'Baltimore Orioles', 'price': 1.59}, {'name': 'Oakland Athletics', 'price': 2.74}]}]}]}\n",
            "\n",
            "{'id': '55ecc9763564b5aa5ff59deff7fd5322', 'sport_key': 'baseball_mlb', 'sport_title': 'MLB', 'commence_time': '2023-04-10T22:35:00Z', 'home_team': 'Pittsburgh Pirates', 'away_team': 'Houston Astros', 'bookmakers': [{'key': 'ladbrokes', 'title': 'Ladbrokes', 'last_update': '2023-04-10T21:08:19Z', 'markets': [{'key': 'h2h', 'last_update': '2023-04-10T21:08:19Z', 'outcomes': [{'name': 'Houston Astros', 'price': 1.55}, {'name': 'Pittsburgh Pirates', 'price': 2.5}]}]}, {'key': 'williamhill', 'title': 'William Hill', 'last_update': '2023-04-10T21:08:19Z', 'markets': [{'key': 'h2h', 'last_update': '2023-04-10T21:08:19Z', 'outcomes': [{'name': 'Houston Astros', 'price': 1.56}, {'name': 'Pittsburgh Pirates', 'price': 2.6}]}]}, {'key': 'betfair_sb_uk', 'title': 'Betfair Sportsbook', 'last_update': '2023-04-10T21:08:22Z', 'markets': [{'key': 'h2h', 'last_update': '2023-04-10T21:08:22Z', 'outcomes': [{'name': 'Houston Astros', 'price': 1.53}, {'name': 'Pittsburgh Pirates', 'price': 2.6}]}]}, {'key': 'paddypower', 'title': 'Paddy Power', 'last_update': '2023-04-10T21:08:19Z', 'markets': [{'key': 'h2h', 'last_update': '2023-04-10T21:08:19Z', 'outcomes': [{'name': 'Houston Astros', 'price': 1.5}, {'name': 'Pittsburgh Pirates', 'price': 2.5}]}]}, {'key': 'coral', 'title': 'Coral', 'last_update': '2023-04-10T21:08:21Z', 'markets': [{'key': 'h2h', 'last_update': '2023-04-10T21:08:21Z', 'outcomes': [{'name': 'Houston Astros', 'price': 1.53}, {'name': 'Pittsburgh Pirates', 'price': 2.5}]}]}, {'key': 'casumo', 'title': 'Casumo', 'last_update': '2023-04-10T21:08:21Z', 'markets': [{'key': 'h2h', 'last_update': '2023-04-10T21:08:21Z', 'outcomes': [{'name': 'Houston Astros', 'price': 1.51}, {'name': 'Pittsburgh Pirates', 'price': 2.65}]}]}, {'key': 'mrgreen', 'title': 'Mr Green', 'last_update': '2023-04-10T21:08:21Z', 'markets': [{'key': 'h2h', 'last_update': '2023-04-10T21:08:21Z', 'outcomes': [{'name': 'Houston Astros', 'price': 1.49}, {'name': 'Pittsburgh Pirates', 'price': 2.63}]}]}, {'key': 'unibet_uk', 'title': 'Unibet', 'last_update': '2023-04-10T21:08:21Z', 'markets': [{'key': 'h2h', 'last_update': '2023-04-10T21:08:21Z', 'outcomes': [{'name': 'Houston Astros', 'price': 1.5}, {'name': 'Pittsburgh Pirates', 'price': 2.65}]}]}, {'key': 'betfair', 'title': 'Betfair', 'last_update': '2023-04-10T21:08:21Z', 'markets': [{'key': 'h2h', 'last_update': '2023-04-10T21:08:21Z', 'outcomes': [{'name': 'Houston Astros', 'price': 1.58}, {'name': 'Pittsburgh Pirates', 'price': 2.66}]}, {'key': 'h2h_lay', 'last_update': '2023-04-10T21:08:21Z', 'outcomes': [{'name': 'Houston Astros', 'price': 1.6}, {'name': 'Pittsburgh Pirates', 'price': 2.72}]}]}]}\n",
            "\n",
            "{'id': '061e02e1f761bc8e659b7e76417370c9', 'sport_key': 'baseball_mlb', 'sport_title': 'MLB', 'commence_time': '2023-04-10T22:40:00Z', 'home_team': 'Tampa Bay Rays', 'away_team': 'Boston Red Sox', 'bookmakers': [{'key': 'ladbrokes', 'title': 'Ladbrokes', 'last_update': '2023-04-10T21:08:19Z', 'markets': [{'key': 'h2h', 'last_update': '2023-04-10T21:08:19Z', 'outcomes': [{'name': 'Boston Red Sox', 'price': 2.25}, {'name': 'Tampa Bay Rays', 'price': 1.65}]}]}, {'key': 'williamhill', 'title': 'William Hill', 'last_update': '2023-04-10T21:08:19Z', 'markets': [{'key': 'h2h', 'last_update': '2023-04-10T21:08:19Z', 'outcomes': [{'name': 'Boston Red Sox', 'price': 2.4}, {'name': 'Tampa Bay Rays', 'price': 1.62}]}]}, {'key': 'paddypower', 'title': 'Paddy Power', 'last_update': '2023-04-10T21:08:19Z', 'markets': [{'key': 'h2h', 'last_update': '2023-04-10T21:08:19Z', 'outcomes': [{'name': 'Boston Red Sox', 'price': 2.25}, {'name': 'Tampa Bay Rays', 'price': 1.6}]}]}, {'key': 'mrgreen', 'title': 'Mr Green', 'last_update': '2023-04-10T21:08:21Z', 'markets': [{'key': 'h2h', 'last_update': '2023-04-10T21:08:21Z', 'outcomes': [{'name': 'Boston Red Sox', 'price': 2.3}, {'name': 'Tampa Bay Rays', 'price': 1.61}]}]}, {'key': 'unibet_uk', 'title': 'Unibet', 'last_update': '2023-04-10T21:08:21Z', 'markets': [{'key': 'h2h', 'last_update': '2023-04-10T21:08:21Z', 'outcomes': [{'name': 'Boston Red Sox', 'price': 2.33}, {'name': 'Tampa Bay Rays', 'price': 1.63}]}]}, {'key': 'casumo', 'title': 'Casumo', 'last_update': '2023-04-10T21:08:21Z', 'markets': [{'key': 'h2h', 'last_update': '2023-04-10T21:08:21Z', 'outcomes': [{'name': 'Boston Red Sox', 'price': 2.35}, {'name': 'Tampa Bay Rays', 'price': 1.64}]}]}, {'key': 'coral', 'title': 'Coral', 'last_update': '2023-04-10T21:08:21Z', 'markets': [{'key': 'h2h', 'last_update': '2023-04-10T21:08:21Z', 'outcomes': [{'name': 'Boston Red Sox', 'price': 2.25}, {'name': 'Tampa Bay Rays', 'price': 1.65}]}]}, {'key': 'betfair_sb_uk', 'title': 'Betfair Sportsbook', 'last_update': '2023-04-10T21:08:22Z', 'markets': [{'key': 'h2h', 'last_update': '2023-04-10T21:08:22Z', 'outcomes': [{'name': 'Boston Red Sox', 'price': 2.38}, {'name': 'Tampa Bay Rays', 'price': 1.62}]}]}, {'key': 'betfair', 'title': 'Betfair', 'last_update': '2023-04-10T21:08:21Z', 'markets': [{'key': 'h2h', 'last_update': '2023-04-10T21:08:21Z', 'outcomes': [{'name': 'Boston Red Sox', 'price': 2.38}, {'name': 'Tampa Bay Rays', 'price': 1.7}]}, {'key': 'h2h_lay', 'last_update': '2023-04-10T21:08:21Z', 'outcomes': [{'name': 'Boston Red Sox', 'price': 2.44}, {'name': 'Tampa Bay Rays', 'price': 1.72}]}]}]}\n",
            "\n",
            "{'id': 'ca9a134409538707cc2f8b6d018bac2a', 'sport_key': 'baseball_mlb', 'sport_title': 'MLB', 'commence_time': '2023-04-10T22:40:00Z', 'home_team': 'Philadelphia Phillies', 'away_team': 'Miami Marlins', 'bookmakers': [{'key': 'ladbrokes', 'title': 'Ladbrokes', 'last_update': '2023-04-10T21:08:19Z', 'markets': [{'key': 'h2h', 'last_update': '2023-04-10T21:08:19Z', 'outcomes': [{'name': 'Miami Marlins', 'price': 1.77}, {'name': 'Philadelphia Phillies', 'price': 2.1}]}]}, {'key': 'williamhill', 'title': 'William Hill', 'last_update': '2023-04-10T21:08:19Z', 'markets': [{'key': 'h2h', 'last_update': '2023-04-10T21:08:19Z', 'outcomes': [{'name': 'Miami Marlins', 'price': 1.77}, {'name': 'Philadelphia Phillies', 'price': 2.1}]}]}, {'key': 'paddypower', 'title': 'Paddy Power', 'last_update': '2023-04-10T21:08:19Z', 'markets': [{'key': 'h2h', 'last_update': '2023-04-10T21:08:19Z', 'outcomes': [{'name': 'Miami Marlins', 'price': 1.73}, {'name': 'Philadelphia Phillies', 'price': 2.05}]}]}, {'key': 'betfair_sb_uk', 'title': 'Betfair Sportsbook', 'last_update': '2023-04-10T21:08:22Z', 'markets': [{'key': 'h2h', 'last_update': '2023-04-10T21:08:22Z', 'outcomes': [{'name': 'Miami Marlins', 'price': 1.75}, {'name': 'Philadelphia Phillies', 'price': 2.1}]}]}, {'key': 'coral', 'title': 'Coral', 'last_update': '2023-04-10T21:08:21Z', 'markets': [{'key': 'h2h', 'last_update': '2023-04-10T21:08:21Z', 'outcomes': [{'name': 'Miami Marlins', 'price': 1.75}, {'name': 'Philadelphia Phillies', 'price': 2.1}]}]}, {'key': 'casumo', 'title': 'Casumo', 'last_update': '2023-04-10T21:08:21Z', 'markets': [{'key': 'h2h', 'last_update': '2023-04-10T21:08:21Z', 'outcomes': [{'name': 'Miami Marlins', 'price': 1.81}, {'name': 'Philadelphia Phillies', 'price': 2.08}]}]}, {'key': 'mrgreen', 'title': 'Mr Green', 'last_update': '2023-04-10T21:08:21Z', 'markets': [{'key': 'h2h', 'last_update': '2023-04-10T21:08:21Z', 'outcomes': [{'name': 'Miami Marlins', 'price': 1.77}, {'name': 'Philadelphia Phillies', 'price': 2.04}]}]}, {'key': 'unibet_uk', 'title': 'Unibet', 'last_update': '2023-04-10T21:08:21Z', 'markets': [{'key': 'h2h', 'last_update': '2023-04-10T21:08:21Z', 'outcomes': [{'name': 'Miami Marlins', 'price': 1.8}, {'name': 'Philadelphia Phillies', 'price': 2.06}]}]}, {'key': 'betfair', 'title': 'Betfair', 'last_update': '2023-04-10T21:08:21Z', 'markets': [{'key': 'h2h', 'last_update': '2023-04-10T21:08:21Z', 'outcomes': [{'name': 'Miami Marlins', 'price': 1.8}, {'name': 'Philadelphia Phillies', 'price': 2.22}]}, {'key': 'h2h_lay', 'last_update': '2023-04-10T21:08:21Z', 'outcomes': [{'name': 'Miami Marlins', 'price': 1.81}, {'name': 'Philadelphia Phillies', 'price': 2.26}]}]}]}\n",
            "\n",
            "{'id': 'e7a1ac4a074a5f2373455cb6af914383', 'sport_key': 'icehockey_nhl', 'sport_title': 'NHL', 'commence_time': '2023-04-10T23:00:00Z', 'home_team': 'New York Rangers', 'away_team': 'Buffalo Sabres', 'bookmakers': [{'key': 'paddypower', 'title': 'Paddy Power', 'last_update': '2023-04-10T21:06:48Z', 'markets': [{'key': 'h2h', 'last_update': '2023-04-10T21:06:48Z', 'outcomes': [{'name': 'Buffalo Sabres', 'price': 3.5}, {'name': 'New York Rangers', 'price': 1.73}, {'name': 'Draw', 'price': 4.33}]}]}, {'key': 'betvictor', 'title': 'Bet Victor', 'last_update': '2023-04-10T21:06:49Z', 'markets': [{'key': 'h2h', 'last_update': '2023-04-10T21:06:49Z', 'outcomes': [{'name': 'Buffalo Sabres', 'price': 2.55}, {'name': 'New York Rangers', 'price': 1.45}]}]}, {'key': 'betfair_sb_uk', 'title': 'Betfair Sportsbook', 'last_update': '2023-04-10T21:06:52Z', 'markets': [{'key': 'h2h', 'last_update': '2023-04-10T21:06:52Z', 'outcomes': [{'name': 'Buffalo Sabres', 'price': 2.63}, {'name': 'New York Rangers', 'price': 1.5}]}]}, {'key': 'sport888', 'title': '888sport', 'last_update': '2023-04-10T21:06:49Z', 'markets': [{'key': 'h2h', 'last_update': '2023-04-10T21:06:49Z', 'outcomes': [{'name': 'Buffalo Sabres', 'price': 2.8}, {'name': 'New York Rangers', 'price': 1.45}]}]}, {'key': 'betfair', 'title': 'Betfair', 'last_update': '2023-04-10T21:08:13Z', 'markets': [{'key': 'h2h', 'last_update': '2023-04-10T21:08:13Z', 'outcomes': [{'name': 'Buffalo Sabres', 'price': 3.0}, {'name': 'New York Rangers', 'price': 1.48}]}, {'key': 'h2h_lay', 'last_update': '2023-04-10T21:08:13Z', 'outcomes': [{'name': 'Buffalo Sabres', 'price': 3.05}, {'name': 'New York Rangers', 'price': 1.5}]}]}, {'key': 'virginbet', 'title': 'Virgin Bet', 'last_update': '2023-04-10T21:06:50Z', 'markets': [{'key': 'h2h', 'last_update': '2023-04-10T21:06:50Z', 'outcomes': [{'name': 'Buffalo Sabres', 'price': 2.8}, {'name': 'New York Rangers', 'price': 1.44}]}]}, {'key': 'casumo', 'title': 'Casumo', 'last_update': '2023-04-10T21:06:50Z', 'markets': [{'key': 'h2h', 'last_update': '2023-04-10T21:06:50Z', 'outcomes': [{'name': 'Buffalo Sabres', 'price': 3.75}, {'name': 'New York Rangers', 'price': 1.75}, {'name': 'Draw', 'price': 4.6}]}]}, {'key': 'ladbrokes', 'title': 'Ladbrokes', 'last_update': '2023-04-10T21:08:11Z', 'markets': [{'key': 'h2h', 'last_update': '2023-04-10T21:08:11Z', 'outcomes': [{'name': 'Buffalo Sabres', 'price': 2.75}, {'name': 'New York Rangers', 'price': 1.45}]}]}, {'key': 'coral', 'title': 'Coral', 'last_update': '2023-04-10T21:06:50Z', 'markets': [{'key': 'h2h', 'last_update': '2023-04-10T21:06:50Z', 'outcomes': [{'name': 'Buffalo Sabres', 'price': 2.8}, {'name': 'New York Rangers', 'price': 1.44}]}]}, {'key': 'matchbook', 'title': 'Matchbook', 'last_update': '2023-04-10T21:08:11Z', 'markets': [{'key': 'h2h', 'last_update': '2023-04-10T21:08:11Z', 'outcomes': [{'name': 'Buffalo Sabres', 'price': 3.0}, {'name': 'New York Rangers', 'price': 1.49}]}, {'key': 'h2h_lay', 'last_update': '2023-04-10T21:08:11Z', 'outcomes': [{'name': 'Buffalo Sabres', 'price': 3.05}, {'name': 'New York Rangers', 'price': 1.5}]}]}]}\n",
            "\n",
            "{'id': 'd18db1da08e00edba272ee5d854cfc41', 'sport_key': 'icehockey_nhl', 'sport_title': 'NHL', 'commence_time': '2023-04-10T23:00:00Z', 'home_team': 'Ottawa Senators', 'away_team': 'Carolina Hurricanes', 'bookmakers': [{'key': 'paddypower', 'title': 'Paddy Power', 'last_update': '2023-04-10T21:06:48Z', 'markets': [{'key': 'h2h', 'last_update': '2023-04-10T21:06:48Z', 'outcomes': [{'name': 'Carolina Hurricanes', 'price': 1.53}, {'name': 'Ottawa Senators', 'price': 2.45}]}]}, {'key': 'sport888', 'title': '888sport', 'last_update': '2023-04-10T21:06:49Z', 'markets': [{'key': 'h2h', 'last_update': '2023-04-10T21:06:49Z', 'outcomes': [{'name': 'Carolina Hurricanes', 'price': 1.53}, {'name': 'Ottawa Senators', 'price': 2.55}]}]}, {'key': 'betvictor', 'title': 'Bet Victor', 'last_update': '2023-04-10T21:06:49Z', 'markets': [{'key': 'h2h', 'last_update': '2023-04-10T21:06:49Z', 'outcomes': [{'name': 'Carolina Hurricanes', 'price': 1.5}, {'name': 'Ottawa Senators', 'price': 2.38}]}]}, {'key': 'betfair_sb_uk', 'title': 'Betfair Sportsbook', 'last_update': '2023-04-10T21:06:52Z', 'markets': [{'key': 'h2h', 'last_update': '2023-04-10T21:06:52Z', 'outcomes': [{'name': 'Carolina Hurricanes', 'price': 1.53}, {'name': 'Ottawa Senators', 'price': 2.5}]}]}, {'key': 'betfair', 'title': 'Betfair', 'last_update': '2023-04-10T21:08:13Z', 'markets': [{'key': 'h2h', 'last_update': '2023-04-10T21:08:13Z', 'outcomes': [{'name': 'Carolina Hurricanes', 'price': 1.57}, {'name': 'Ottawa Senators', 'price': 2.68}]}, {'key': 'h2h_lay', 'last_update': '2023-04-10T21:08:13Z', 'outcomes': [{'name': 'Carolina Hurricanes', 'price': 1.6}, {'name': 'Ottawa Senators', 'price': 2.74}]}]}, {'key': 'virginbet', 'title': 'Virgin Bet', 'last_update': '2023-04-10T21:06:50Z', 'markets': [{'key': 'h2h', 'last_update': '2023-04-10T21:06:50Z', 'outcomes': [{'name': 'Carolina Hurricanes', 'price': 1.5}, {'name': 'Ottawa Senators', 'price': 2.6}]}]}, {'key': 'casumo', 'title': 'Casumo', 'last_update': '2023-04-10T21:06:50Z', 'markets': [{'key': 'h2h', 'last_update': '2023-04-10T21:06:50Z', 'outcomes': [{'name': 'Carolina Hurricanes', 'price': 1.88}, {'name': 'Ottawa Senators', 'price': 3.4}, {'name': 'Draw', 'price': 4.4}]}]}, {'key': 'ladbrokes', 'title': 'Ladbrokes', 'last_update': '2023-04-10T21:08:11Z', 'markets': [{'key': 'h2h', 'last_update': '2023-04-10T21:08:11Z', 'outcomes': [{'name': 'Carolina Hurricanes', 'price': 1.53}, {'name': 'Ottawa Senators', 'price': 2.55}]}]}, {'key': 'coral', 'title': 'Coral', 'last_update': '2023-04-10T21:06:50Z', 'markets': [{'key': 'h2h', 'last_update': '2023-04-10T21:06:50Z', 'outcomes': [{'name': 'Carolina Hurricanes', 'price': 1.53}, {'name': 'Ottawa Senators', 'price': 2.5}]}]}, {'key': 'matchbook', 'title': 'Matchbook', 'last_update': '2023-04-10T21:08:11Z', 'markets': [{'key': 'h2h', 'last_update': '2023-04-10T21:08:11Z', 'outcomes': [{'name': 'Carolina Hurricanes', 'price': 1.6}, {'name': 'Ottawa Senators', 'price': 2.64}]}, {'key': 'h2h_lay', 'last_update': '2023-04-10T21:08:11Z', 'outcomes': [{'name': 'Carolina Hurricanes', 'price': 1.61}, {'name': 'Ottawa Senators', 'price': 2.68}]}]}]}\n",
            "\n",
            "{'id': 'c0988e715bee9fec5d8e6bb272cc6135', 'sport_key': 'icehockey_nhl', 'sport_title': 'NHL', 'commence_time': '2023-04-10T23:00:00Z', 'home_team': 'Detroit Red Wings', 'away_team': 'Dallas Stars', 'bookmakers': [{'key': 'paddypower', 'title': 'Paddy Power', 'last_update': '2023-04-10T21:06:48Z', 'markets': [{'key': 'h2h', 'last_update': '2023-04-10T21:06:48Z', 'outcomes': [{'name': 'Dallas Stars', 'price': 1.83}, {'name': 'Detroit Red Wings', 'price': 3.2}, {'name': 'Draw', 'price': 4.2}]}]}, {'key': 'sport888', 'title': '888sport', 'last_update': '2023-04-10T21:06:49Z', 'markets': [{'key': 'h2h', 'last_update': '2023-04-10T21:06:49Z', 'outcomes': [{'name': 'Dallas Stars', 'price': 1.53}, {'name': 'Detroit Red Wings', 'price': 2.55}]}]}, {'key': 'betvictor', 'title': 'Bet Victor', 'last_update': '2023-04-10T21:06:49Z', 'markets': [{'key': 'h2h', 'last_update': '2023-04-10T21:06:49Z', 'outcomes': [{'name': 'Dallas Stars', 'price': 1.5}, {'name': 'Detroit Red Wings', 'price': 2.38}]}]}, {'key': 'betfair_sb_uk', 'title': 'Betfair Sportsbook', 'last_update': '2023-04-10T21:06:52Z', 'markets': [{'key': 'h2h', 'last_update': '2023-04-10T21:06:52Z', 'outcomes': [{'name': 'Dallas Stars', 'price': 1.53}, {'name': 'Detroit Red Wings', 'price': 2.5}]}]}, {'key': 'betfair', 'title': 'Betfair', 'last_update': '2023-04-10T21:08:13Z', 'markets': [{'key': 'h2h', 'last_update': '2023-04-10T21:08:13Z', 'outcomes': [{'name': 'Dallas Stars', 'price': 1.6}, {'name': 'Detroit Red Wings', 'price': 2.62}]}, {'key': 'h2h_lay', 'last_update': '2023-04-10T21:08:13Z', 'outcomes': [{'name': 'Dallas Stars', 'price': 1.62}, {'name': 'Detroit Red Wings', 'price': 2.68}]}]}, {'key': 'virginbet', 'title': 'Virgin Bet', 'last_update': '2023-04-10T21:06:50Z', 'markets': [{'key': 'h2h', 'last_update': '2023-04-10T21:06:50Z', 'outcomes': [{'name': 'Dallas Stars', 'price': 1.53}, {'name': 'Detroit Red Wings', 'price': 2.55}]}]}, {'key': 'casumo', 'title': 'Casumo', 'last_update': '2023-04-10T21:06:50Z', 'markets': [{'key': 'h2h', 'last_update': '2023-04-10T21:06:50Z', 'outcomes': [{'name': 'Dallas Stars', 'price': 1.88}, {'name': 'Detroit Red Wings', 'price': 3.45}, {'name': 'Draw', 'price': 4.35}]}]}, {'key': 'ladbrokes', 'title': 'Ladbrokes', 'last_update': '2023-04-10T21:08:11Z', 'markets': [{'key': 'h2h', 'last_update': '2023-04-10T21:08:11Z', 'outcomes': [{'name': 'Dallas Stars', 'price': 1.55}, {'name': 'Detroit Red Wings', 'price': 2.5}]}]}, {'key': 'coral', 'title': 'Coral', 'last_update': '2023-04-10T21:06:50Z', 'markets': [{'key': 'h2h', 'last_update': '2023-04-10T21:06:50Z', 'outcomes': [{'name': 'Dallas Stars', 'price': 1.55}, {'name': 'Detroit Red Wings', 'price': 2.5}]}]}, {'key': 'matchbook', 'title': 'Matchbook', 'last_update': '2023-04-10T21:08:11Z', 'markets': [{'key': 'h2h', 'last_update': '2023-04-10T21:08:11Z', 'outcomes': [{'name': 'Dallas Stars', 'price': 1.6}, {'name': 'Detroit Red Wings', 'price': 2.62}]}, {'key': 'h2h_lay', 'last_update': '2023-04-10T21:08:11Z', 'outcomes': [{'name': 'Dallas Stars', 'price': 1.62}, {'name': 'Detroit Red Wings', 'price': 2.68}]}]}]}\n",
            "\n"
          ]
        }
      ],
      "source": [
        "events = []\n",
        "for data in odds_response:\n",
        "    events.append(Event(data))\n",
        "    print(data)\n",
        "    print()\n",
        "    \n",
        "arbitrage_events = []\n",
        "for event in events:\n",
        "    try:\n",
        "        best_odds = event.find_best_odds()\n",
        "        if event.arbitrage():\n",
        "            arbitrage_events.append(event)\n",
        "    except (KeyError, IndexError):\n",
        "        pass  # Skip events with missing or invalid data\n",
        "        \n",
        "for event in arbitrage_events:\n",
        "    try:\n",
        "        event.calculate_arbitrage_bets()\n",
        "        event.convert_decimal_to_american()\n",
        "    except (KeyError, IndexError):\n",
        "        pass  # Skip events with missing or invalid data"
      ],
      "id": "9d71f761"
    },
    {
      "cell_type": "markdown",
      "metadata": {
        "id": "4cf86515"
      },
      "source": [
        "### Creating Dataframe and Writing to Excel File"
      ],
      "id": "4cf86515"
    },
    {
      "cell_type": "code",
      "execution_count": 55,
      "metadata": {
        "id": "bdc8da60"
      },
      "outputs": [],
      "source": [
        "MAX_OUTCOMES = max([event.num_outcomes for event in arbitrage_events])\n",
        "ARBITRAGE_EVENTS_COUNT = len(arbitrage_events)\n",
        "\n",
        "my_columns = ['ID', 'Sport Key', 'Expected Earnings'] + list(np.array([[f'Bookmaker #{outcome}', f'Name #{outcome}', f'Odds #{outcome}', f'Amount to Buy #{outcome}'] for outcome in range(1, MAX_OUTCOMES + 1)]).flatten())\n",
        "dataframe = pd.DataFrame(columns=my_columns)"
      ],
      "id": "bdc8da60"
    },
    {
      "cell_type": "code",
      "execution_count": 56,
      "metadata": {
        "id": "1976164f"
      },
      "outputs": [],
      "source": [
        "for event in arbitrage_events:\n",
        "    # print(event.best_odds)\n",
        "    row = []\n",
        "    row.append(event.id)\n",
        "    row.append(event.sport_key)\n",
        "    row.append(round(event.expected_earnings, 2))\n",
        "    for index, outcome in enumerate(event.best_odds):\n",
        "        row.append(outcome[BOOKMAKER_INDEX])\n",
        "        row.append(outcome[NAME_INDEX])\n",
        "        row.append(outcome[ODDS_INDEX])\n",
        "        row.append(event.bet_amounts[index])\n",
        "    while len(row) < len(dataframe.columns):\n",
        "        row.append('N/A')\n",
        "    dataframe.loc[len(dataframe.index)] = row"
      ],
      "id": "1976164f"
    },
    {
      "cell_type": "code",
      "execution_count": 57,
      "metadata": {
        "id": "9aacaf0d"
      },
      "outputs": [],
      "source": [
        "writer = pd.ExcelWriter('bets.xlsx')\n",
        "dataframe.to_excel(writer, index=False)\n",
        "writer.save()"
      ],
      "id": "9aacaf0d"
    },
    {
      "cell_type": "markdown",
      "metadata": {
        "id": "84aa0611"
      },
      "source": [
        "### Formatting the Excel File"
      ],
      "id": "84aa0611"
    },
    {
      "cell_type": "code",
      "execution_count": 58,
      "metadata": {
        "id": "917c28ca"
      },
      "outputs": [],
      "source": [
        "BLACK = '000000'\n",
        "LIGHT_GREY = 'D6D6D6'\n",
        "DARK_GREY = '9F9F9F'\n",
        "RED = 'FEA0A0'\n",
        "BLUE = 'A0CEFE'\n",
        "YELLOW = 'FFE540'\n",
        "\n",
        "COLORS = [RED, BLUE]\n",
        "\n",
        "ID_COLUMN_FILL = PatternFill(fill_type='solid', start_color=DARK_GREY, end_color=DARK_GREY)\n",
        "SPORT_KEY_COLUMN_FILL = PatternFill(fill_type='solid', start_color=LIGHT_GREY, end_color=LIGHT_GREY)\n",
        "EXPECTED_EARNINGS_COLUMN_FILL = PatternFill(fill_type='solid', start_color=YELLOW, end_color=YELLOW)\n",
        "\n",
        "CENTER_ALIGNMENT = Alignment(horizontal='center', vertical='bottom', indent=0)\n",
        "\n",
        "TOP_ROW_BORDER = Border(bottom=Side(border_style='thick', color=BLACK))\n",
        "NORMAL_ROW_BORDER = Border(top=Side(border_style='thin', color=LIGHT_GREY), bottom=Side(border_style='thin', color=DARK_GREY))\n",
        "\n",
        "wb = load_workbook('bets.xlsx')\n",
        "ws = wb.active\n",
        "ws.title = 'Upcoming'\n",
        "# changing width\n",
        "for col in range(1, 26):\n",
        "    ws.column_dimensions[chr(col + 64)].width = 20\n",
        "\n",
        "for cell in ws['A']:\n",
        "    cell.fill = ID_COLUMN_FILL\n",
        "    cell.alignment = CENTER_ALIGNMENT\n",
        "    \n",
        "for cell in ws['B']:\n",
        "    cell.fill = SPORT_KEY_COLUMN_FILL\n",
        "    cell.alignment = CENTER_ALIGNMENT\n",
        "    \n",
        "for cell in ws['C']:\n",
        "    cell.fill = EXPECTED_EARNINGS_COLUMN_FILL\n",
        "    cell.alignment = CENTER_ALIGNMENT\n",
        "    cell.number_format = numbers.BUILTIN_FORMATS[7]\n",
        "\n",
        "START_INDEX = 'D'\n",
        "for index in range(MAX_OUTCOMES):\n",
        "    for col in ws[START_INDEX : chr(ord(START_INDEX) + 3)]:\n",
        "        for cell in col:\n",
        "            color = COLORS[int(index % 2)]\n",
        "            cell.fill = PatternFill(fill_type='solid', start_color=color, end_color=color)\n",
        "            cell.alignment = CENTER_ALIGNMENT\n",
        "            if cell.column % 4 == 3:\n",
        "                cell.number_format = numbers.BUILTIN_FORMATS[7]\n",
        "            \n",
        "    START_INDEX = chr(ord(START_INDEX) + 4)\n",
        "\n",
        "for cell in ws['1']:\n",
        "    cell.border = TOP_ROW_BORDER\n",
        "\n",
        "for row in range(2, ARBITRAGE_EVENTS_COUNT + 2):\n",
        "    for cell in ws[str(row)]:\n",
        "        cell.border = NORMAL_ROW_BORDER\n",
        "    \n",
        "wb.save('upcoming_events_bets.xlsx')"
      ],
      "id": "917c28ca"
    },
    {
      "cell_type": "code",
      "execution_count": 49,
      "metadata": {
        "id": "06858b4a"
      },
      "outputs": [],
      "source": [],
      "id": "06858b4a"
    }
  ],
  "metadata": {
    "colab": {
      "provenance": []
    },
    "kernelspec": {
      "display_name": "Python 3 (ipykernel)",
      "language": "python",
      "name": "python3"
    },
    "language_info": {
      "codemirror_mode": {
        "name": "ipython",
        "version": 3
      },
      "file_extension": ".py",
      "mimetype": "text/x-python",
      "name": "python",
      "nbconvert_exporter": "python",
      "pygments_lexer": "ipython3",
      "version": "3.9.7"
    }
  },
  "nbformat": 4,
  "nbformat_minor": 5
}